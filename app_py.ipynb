{
  "nbformat": 4,
  "nbformat_minor": 0,
  "metadata": {
    "colab": {
      "provenance": [],
      "authorship_tag": "ABX9TyPG+fczeCpxE4raMX4wScA2",
      "include_colab_link": true
    },
    "kernelspec": {
      "name": "python3",
      "display_name": "Python 3"
    },
    "language_info": {
      "name": "python"
    }
  },
  "cells": [
    {
      "cell_type": "markdown",
      "metadata": {
        "id": "view-in-github",
        "colab_type": "text"
      },
      "source": [
        "<a href=\"https://colab.research.google.com/github/DinitasLacrkym/clase-clonacion/blob/main/app_py.ipynb\" target=\"_parent\"><img src=\"https://colab.research.google.com/assets/colab-badge.svg\" alt=\"Open In Colab\"/></a>"
      ]
    },
    {
      "cell_type": "code",
      "execution_count": null,
      "metadata": {
        "id": "hLw_rbdaSpFV"
      },
      "outputs": [],
      "source": [
        "import streamlit as st\n",
        "import pandas as pd\n",
        "import plotly.express as px\n",
        "import plotly.graph_objects as go\n",
        "import gspread\n",
        "from gspread_dataframe import get_as_dataframe\n",
        "from google.auth import default\n",
        "\n",
        "# Configuración de la página\n",
        "st.set_page_config(page_title=\"BrightSpace Instructores\", layout=\"wide\")\n",
        "\n",
        "st.title(\"📊 Análisis de Actividades en BrightSpace\")\n",
        "st.write(\"Esta aplicación permite analizar las actividades de los instructores en la plataforma BrightSpace.\")\n",
        "\n",
        "# Autenticación con Google\n",
        "creds, _ = default()\n",
        "gc = gspread.authorize(creds)\n",
        "\n",
        "# Lectura de Google Sheet\n",
        "SHEET_ID = \"1Eh3X8Bwd-0GoF3pyl0Xz6-oCOJm-SW9l5fItahcn99g\"\n",
        "worksheet = gc.open_by_key(SHEET_ID).sheet1\n",
        "df = get_as_dataframe(worksheet, evaluate_formulas=True).dropna(how=\"all\")\n",
        "\n",
        "# Limpieza y conversión\n",
        "cols_metrica = [\n",
        "    \"Cantidad de elementos de calificación\",\n",
        "    \"Cantidad de publicaciones de debate\",\n",
        "    \"Cantidad de publicaciones de debate iniciado\",\n",
        "    \"Cantidad de inicios de sesión en el sistema\"\n",
        "]\n",
        "df[cols_metrica] = df[cols_metrica].apply(pd.to_numeric, errors='coerce').fillna(0)\n",
        "\n",
        "# Tabla resumen\n",
        "st.header(\"📋 Resumen General\")\n",
        "resumen_total = df[cols_metrica].sum().reset_index()\n",
        "resumen_total.columns = [\"Métrica\", \"Total\"]\n",
        "st.table(resumen_total)\n",
        "\n",
        "# Indicadores KPI\n",
        "st.header(\"📌 Indicadores Clave\")\n",
        "fig_kpi = go.Figure()\n",
        "fig_kpi.add_trace(go.Indicator(mode=\"number\", value=resumen_total.loc[0, \"Total\"], title=\"📝 Calificaciones\"))\n",
        "fig_kpi.add_trace(go.Indicator(mode=\"number\", value=resumen_total.loc[1, \"Total\"], title=\"💬 Publicaciones de debate\"))\n",
        "fig_kpi.add_trace(go.Indicator(mode=\"number\", value=resumen_total.loc[2, \"Total\"], title=\"📢 Debates iniciados\"))\n",
        "fig_kpi.add_trace(go.Indicator(mode=\"number\", value=resumen_total.loc[3, \"Total\"], title=\"🔐 Inicios de sesión\"))\n",
        "st.plotly_chart(fig_kpi, use_container_width=True)\n",
        "\n",
        "# Gráficos por profesor\n",
        "st.header(\"📊 Análisis por Profesor\")\n",
        "fig1 = px.bar(df, x=\"Nombre de Profesor\", y=\"Cantidad de elementos de calificación\",\n",
        "              title=\"📝 Elementos de calificación por profesor\", color=\"Nombre de Profesor\", text_auto=True)\n",
        "st.plotly_chart(fig1, use_container_width=True)\n",
        "\n",
        "fig2 = px.bar(df, x=\"Nombre de Profesor\", y=\"Cantidad de publicaciones de debate\",\n",
        "              title=\"💬 Publicaciones de debate por profesor\", color=\"Nombre de Profesor\", text_auto=True)\n",
        "st.plotly_chart(fig2, use_container_width=True)\n",
        "\n",
        "fig3 = px.bar(df, x=\"Nombre de Profesor\", y=\"Cantidad de publicaciones de debate iniciado\",\n",
        "              title=\"📢 Debates iniciados por profesor\", color=\"Nombre de Profesor\", text_auto=True)\n",
        "st.plotly_chart(fig3, use_container_width=True)\n",
        "\n",
        "fig4 = px.bar(df, x=\"Nombre de Profesor\", y=\"Cantidad de inicios de sesión en el sistema\",\n",
        "              title=\"🔐 Inicios de sesión por profesor\", color=\"Nombre de Profesor\", text_auto=True)\n",
        "st.plotly_chart(fig4, use_container_width=True)\n"
      ]
    }
  ]
}